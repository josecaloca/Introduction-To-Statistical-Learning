{
 "cells": [
  {
   "cell_type": "markdown",
   "metadata": {},
   "source": [
    "# Animals_1.csv"
   ]
  },
  {
   "cell_type": "code",
   "execution_count": 1,
   "metadata": {},
   "outputs": [],
   "source": [
    "import numpy as np\n",
    "import pandas as pd\n",
    "\n",
    "# Seed for reproducibility\n",
    "np.random.seed(0)\n",
    "\n",
    "# Number of observations\n",
    "num_samples = 100\n",
    "\n",
    "# Generate data for pandas\n",
    "panda_weights = np.round(np.random.normal(85, 10, num_samples))\n",
    "panda_sizes = np.round(np.random.normal(97.5, 5, num_samples))\n",
    "panda_data = np.column_stack((panda_weights, panda_sizes))\n",
    "\n",
    "# Generate data for tigers\n",
    "tiger_weights = np.round(np.random.normal(190, 20, num_samples))\n",
    "tiger_sizes = np.round(np.random.normal(155, 10, num_samples))\n",
    "tiger_data = np.column_stack((tiger_weights, tiger_sizes))\n",
    "\n",
    "# Create dataframes for pandas and tigers\n",
    "panda_df = pd.DataFrame(panda_data, columns=['Weight', 'Size'])\n",
    "tiger_df = pd.DataFrame(tiger_data, columns=['Weight', 'Size'])\n",
    "\n",
    "# Add a 'Class' column to differentiate between pandas and tigers\n",
    "panda_df['Class'] = 'panda'\n",
    "tiger_df['Class'] = 'tiger'\n",
    "\n",
    "animal_df = pd.concat([panda_df, tiger_df], ignore_index=True)\n",
    "animal_df.to_csv('animals_1.csv', index=False)"
   ]
  },
  {
   "cell_type": "markdown",
   "metadata": {},
   "source": [
    "# Animals_2.csv"
   ]
  },
  {
   "cell_type": "code",
   "execution_count": 2,
   "metadata": {},
   "outputs": [],
   "source": [
    "import numpy as np\n",
    "import pandas as pd\n",
    "\n",
    "# Seed for reproducibility\n",
    "np.random.seed(0)\n",
    "\n",
    "# Number of observations\n",
    "num_samples = 100\n",
    "\n",
    "# Generate data for pandas\n",
    "panda_weights = np.round(np.random.normal(85, 10, num_samples))\n",
    "panda_sizes = np.round(np.random.normal(97.5, 5, num_samples))\n",
    "panda_speeds = np.round(np.random.normal(20, 5, num_samples))  # Add speed for pandas\n",
    "panda_data = np.column_stack((panda_weights, panda_sizes, panda_speeds))\n",
    "\n",
    "# Generate data for tigers\n",
    "tiger_weights = np.round(np.random.normal(190, 20, num_samples))\n",
    "tiger_sizes = np.round(np.random.normal(155, 10, num_samples))\n",
    "tiger_speeds = np.round(np.random.normal(25, 5, num_samples))  # Add speed for tigers\n",
    "tiger_data = np.column_stack((tiger_weights, tiger_sizes, tiger_speeds))\n",
    "\n",
    "# Generate data for cats\n",
    "cat_weights = np.round(np.random.normal(10, 6, num_samples))\n",
    "cat_sizes = np.round(np.random.normal(23, 5, num_samples))\n",
    "cat_speeds = np.round(np.random.normal(40, 30, num_samples))  # Add speed for cats\n",
    "cat_data = np.column_stack((cat_weights, cat_sizes, cat_speeds))\n",
    "\n",
    "# Create dataframes for pandas, tigers, and cats\n",
    "panda_df = pd.DataFrame(panda_data, columns=['Weight', 'Size', 'Speed'])  # Add 'Speed' column\n",
    "tiger_df = pd.DataFrame(tiger_data, columns=['Weight', 'Size', 'Speed'])  # Add 'Speed' column\n",
    "cat_df = pd.DataFrame(cat_data, columns=['Weight', 'Size', 'Speed'])  # Add 'Speed' column\n",
    "\n",
    "# Add a 'Class' column to differentiate between animals\n",
    "panda_df['Class'] = 'panda'\n",
    "tiger_df['Class'] = 'tiger'\n",
    "cat_df['Class'] = 'cat'\n",
    "\n",
    "# Combine the dataframes into one\n",
    "animal_df = pd.concat([panda_df, tiger_df, cat_df], ignore_index=True)\n",
    "\n",
    "# Save to CSV\n",
    "animal_df.to_csv('animals_2.csv', index=False)\n"
   ]
  }
 ],
 "metadata": {
  "kernelspec": {
   "display_name": "ISLPvenv",
   "language": "python",
   "name": "python3"
  },
  "language_info": {
   "codemirror_mode": {
    "name": "ipython",
    "version": 3
   },
   "file_extension": ".py",
   "mimetype": "text/x-python",
   "name": "python",
   "nbconvert_exporter": "python",
   "pygments_lexer": "ipython3",
   "version": "3.8.2"
  },
  "orig_nbformat": 4
 },
 "nbformat": 4,
 "nbformat_minor": 2
}
