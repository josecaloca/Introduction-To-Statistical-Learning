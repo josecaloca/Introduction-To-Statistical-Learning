{
 "cells": [
  {
   "cell_type": "markdown",
   "metadata": {},
   "source": [
    "# Import Libraries"
   ]
  },
  {
   "cell_type": "code",
   "execution_count": 2,
   "metadata": {},
   "outputs": [],
   "source": [
    "import numpy as np\n",
    "import matplotlib.pyplot as plt\n",
    "import pandas as pd"
   ]
  },
  {
   "cell_type": "markdown",
   "metadata": {},
   "source": [
    "# 🔍Load Synthetic Data for LDA Analysis with 🐼 Pandas and 🐯Tigers"
   ]
  },
  {
   "cell_type": "code",
   "execution_count": 41,
   "metadata": {},
   "outputs": [],
   "source": [
    "df = pd.read_csv(\"./animals_1.csv\")\n",
    "panda_data = df[df[\"Class\"] == \"panda\"][[\"Weight\", \"Size\"]].to_numpy()\n",
    "tiger_data = df[df[\"Class\"] == \"tiger\"][[\"Weight\", \"Size\"]].to_numpy()\n"
   ]
  },
  {
   "cell_type": "markdown",
   "metadata": {},
   "source": [
    "# 📝 Performing LDA where p = 1"
   ]
  },
  {
   "cell_type": "markdown",
   "metadata": {},
   "source": [
    "## Step 1: Calculate mean vectors of each class\n",
    "\n",
    "In this step, we calculate the mean vectors for each class (pandas and tigers).\n",
    "\n",
    "Formula:\n",
    "$ \\LARGE\n",
    "\\mathbf{m}_i = \\frac{1}{n_i}\\sum \\limits_{\\mathbf{x}\\in C_i}\\mathbf{x}\n",
    "$\n",
    "\n",
    "Where:\n",
    "- $\\mathbf{m}_i$ is the mean vector for class $C_i$.\n",
    "- $n_i$ is the number of samples in class $C_i$.\n",
    "- $\\mathbf{x}$ represents individual data points.\n",
    "\n",
    "Example:\n",
    "Demonstration of the calculation of the mean vector for tiger weights:\n",
    "\n",
    "For tigers:\n",
    "- Tiger weights ($C_2$): $\\mathbf{m}_{\\text{tigers}} = \\frac{1}{100}\\sum \\limits_{i=1}^{100}\\text{tiger\\_weights}[i]$\n",
    "\n",
    "\n",
    "$ \\LARGE\n",
    "\\mathbf{m}_{\\text{tigers, weights}} = \\frac{1}{100}(180 + 195 + 185 + \\ldots + 210) \n",
    "$\n",
    "\n",
    "\n"
   ]
  },
  {
   "cell_type": "code",
   "execution_count": 42,
   "metadata": {},
   "outputs": [],
   "source": [
    "# Calculate mean vectors for each class\n",
    "mean_panda = np.mean(panda_data, axis=0)\n",
    "mean_tiger = np.mean(tiger_data, axis=0)\n"
   ]
  },
  {
   "cell_type": "markdown",
   "metadata": {},
   "source": [
    "## Step 2.1: Calculate within-class (S_w) \n",
    "\n",
    "The within-class scatter matrix quantifies the spread or dispersion of data within each class. It helps us understand how data points within the same class are distributed relative to their class mean.\n",
    "\n",
    "\n",
    "### FORMULA \n",
    "The formula for scatter within ($S_w$) is as follows:\n",
    "\n",
    "$ \\LARGE\n",
    "S_w = \\sum \\limits_{i=1}^{c} S_i\n",
    "$\n",
    "\n",
    "Where:\n",
    "- $\\Large S_w$ is the within-class scatter matrix.\n",
    "- $\\Large c$ is the number of classes.\n",
    "- $\\Large S_i$ is the scatter matrix for class $\\Large C_i$.\n",
    "\n",
    "In our dataset, we have two classes: pandas and tigers $\\Large C = 2$ . \n",
    "We will calculate $\\Large S_w$  by summing the scatter matrices for each class, \n",
    "- $\\Large S_1$ for pandas and \n",
    "- $\\Large S_2$  for tigers.\n",
    "\n",
    "\n",
    "For each class $\\Large C_i$, we calculate its scatter matrix $\\Large S_i$ using the following formula:\n",
    "\n",
    "$ \\LARGE\n",
    "S_i = \\sum \\limits_{\\mathbf{x}\\in C_i}(\\mathbf{x} - \\mathbf{m}_i)(\\mathbf{x} - \\mathbf{m}_i)^T\n",
    "$\n",
    "\n",
    "Where:\n",
    "- $\\Large S_i$ is the scatter matrix for class $\\Large C_i$.\n",
    "- $\\Large \\mathbf{x}$ represents individual data points in class $\\Large C_i$.\n",
    "- $\\Large \\mathbf{m}_i $ is the mean vector for class $\\Large C_i$, which we calculated in Step 1.\n",
    "- $ \\large T$ represents the transpose of a vector\n",
    "\n",
    "### Example:\n",
    "Let's calculate $\\Large S_i$ for pandas as an example using the provided synthetic data.\n",
    "\n",
    "For pandas $ \\large C_1$:\n",
    "- We have the mean vector $ \\mathbf{m}_{\\text{pandas}}$  that we calculated in Step 1.\n",
    "- We iterate through the panda data points and compute $\\mathbf{x} - \\mathbf{m}_{\\text{pandas}}$ for each data point. \n",
    "- We then calculate the outer product $(\\mathbf{x} - \\mathbf{m}_{\\text{pandas}})(\\mathbf{x} - \\mathbf{m}_{\\text{pandas}})^T$ for each data point and sum them to obtain $S_1$.////\n",
    "\n",
    "$$ \\large\n",
    "\\begin{align*}\n",
    "S_1 &= \\sum \\limits_{\\mathbf{x}\\in C_i}(\\mathbf{x}_1 - \\mathbf{m}_{\\text{pandas,weight}})(\\mathbf{x}_1 - \\mathbf{m}_{\\text{pandas,size}})^T\n",
    "\\end{align*}\n",
    "$$\n",
    "\n",
    "$$ \n",
    "\\begin{align*}\n",
    "&= \\left([87 - \\text{mean\\_weight\\_pandas}, 95 - \\text{mean\\_size\\_pandas}]\\right)\\left([87 - \\text{mean\\_weight\\_pandas}, 95 - \\text{mean\\_size\\_pandas}]\\right)^T \\\\\n",
    "&+ \\left([82 - \\text{mean\\_weight\\_pandas}, 96 - \\text{mean\\_size\\_pandas}]\\right)\\left([82 - \\text{mean\\_weight\\_pandas}, 96 - \\text{mean\\_size\\_pandas}]\\right)^T \\\\\n",
    "& \\text{..} \\\\\n",
    "& \\text{..} \\\\\n",
    "& S_1= \\text{......} \\\\\n",
    "\\end{align*}\n",
    "$$\n",
    "\n",
    "\n",
    "Repeat a similar process for $S_2$ for tigers.\n",
    "\n",
    "Finally, we calculate $S_w$ by summing $S_1$ and $S_2$:\n",
    "\n",
    "$\n",
    "S_w = S_1 + S_2\n",
    "$\n",
    "\n",
    "This $S_w$ matrix quantifies how data points within each class are dispersed relative to their respective class means, which is crucial for LDA dimensionality reduction."
   ]
  },
  {
   "cell_type": "code",
   "execution_count": 43,
   "metadata": {},
   "outputs": [
    {
     "name": "stdout",
     "output_type": "stream",
     "text": [
      "SCATTER WITHIN MATRIX\n"
     ]
    },
    {
     "data": {
      "text/html": [
       "<div>\n",
       "<style scoped>\n",
       "    .dataframe tbody tr th:only-of-type {\n",
       "        vertical-align: middle;\n",
       "    }\n",
       "\n",
       "    .dataframe tbody tr th {\n",
       "        vertical-align: top;\n",
       "    }\n",
       "\n",
       "    .dataframe thead th {\n",
       "        text-align: right;\n",
       "    }\n",
       "</style>\n",
       "<table border=\"1\" class=\"dataframe\">\n",
       "  <thead>\n",
       "    <tr style=\"text-align: right;\">\n",
       "      <th></th>\n",
       "      <th>Animal</th>\n",
       "      <th>Weight</th>\n",
       "      <th>Class</th>\n",
       "    </tr>\n",
       "  </thead>\n",
       "  <tbody>\n",
       "    <tr>\n",
       "      <th>0</th>\n",
       "      <td>Panda</td>\n",
       "      <td>46579.42</td>\n",
       "      <td>2824.53</td>\n",
       "    </tr>\n",
       "    <tr>\n",
       "      <th>1</th>\n",
       "      <td>Tiger</td>\n",
       "      <td>2824.53</td>\n",
       "      <td>11443.27</td>\n",
       "    </tr>\n",
       "  </tbody>\n",
       "</table>\n",
       "</div>"
      ],
      "text/plain": [
       "  Animal    Weight     Class\n",
       "0  Panda  46579.42   2824.53\n",
       "1  Tiger   2824.53  11443.27"
      ]
     },
     "execution_count": 43,
     "metadata": {},
     "output_type": "execute_result"
    }
   ],
   "source": [
    "# Initialize S_W as a 2x2 matrix since you have 2 features\n",
    "S_W = np.zeros((2, 2))\n",
    "\n",
    "# For panda class\n",
    "for x in panda_data:\n",
    "    x_minus_mean = x - mean_panda\n",
    "    S_W += np.outer(x_minus_mean, x_minus_mean)\n",
    "\n",
    "# For tiger class\n",
    "for x in tiger_data:\n",
    "    x_minus_mean = x - mean_tiger\n",
    "    S_W += np.outer(x_minus_mean, x_minus_mean)\n",
    "\n",
    "# Print the Scatter Within Matrix output\n",
    "print(f\"SCATTER WITHIN MATRIX\")\n",
    "pd.DataFrame({'Animal': ['Panda', 'Tiger'],\n",
    "        'Weight': [S_W[0, 0], S_W[1, 0]],\n",
    "        'Class': [S_W[0, 1], S_W[1, 1]]})"
   ]
  },
  {
   "cell_type": "markdown",
   "metadata": {},
   "source": [
    "## Step 2.2 Calculate Scatter Between\n",
    "\n",
    "\n",
    "**Basic Formula for Scatter Between (Textbook Formula):**\n",
    "\n",
    "The formula for the scatter between $S_b$ is typically defined as follows:\n",
    "\n",
    "$S_b = \\sum_{i=1}^{c}n_i(\\mathbf{m}_i - \\mathbf{m})(\\mathbf{m}_i - \\mathbf{m})^T$\n",
    "\n",
    "Where:\n",
    "- $S_b$ is the between-class scatter matrix.\n",
    "- $c$ is the number of classes.\n",
    "- $n_i$ is the number of samples in class $C_i$.\n",
    "- $\\mathbf{m}_i$ is the mean vector for class $C_i$.\n",
    "- $\\mathbf{m}$ is the overall mean vector.\n",
    "\n",
    "\n",
    "In Step 2.2 of Linear Discriminant Analysis (LDA), we calculate the between-class scatter matrix $S_b$. The between-class scatter matrix quantifies how different classes, in this case, \"pandas\" and \"tigers,\" are spread apart from each other in the feature space based on their weight and size.\n",
    "\n",
    "To understand this, let's use a simple example:\n",
    "\n",
    "we have our dataset with two classes: \"pandas\" and \"tigers.\" We want to find $\\large S_b$ to see how these two classes are separated in the feature space based on their characteristics like weight and size.\n",
    "\n",
    "- We have two classes, so $c = 2$.\n",
    "- We've already calculated the mean vectors for each class in Step 1: $\\mathbf{m}_{\\text{pandas}}\\$ and $\\mathbf{m}_{\\text{tigers}}$.\n",
    "- We also have the overall mean vector of the entire dataset, $\\mathbf{m}$, which is the average of all data points, regardless of class.\n",
    "\n",
    "Now, to calculate $S_b$, we use the formula mentioned above. Let's say we have:\n",
    "\n",
    "- $n_{\\text{pandas}} = 100$ samples in the \"pandas\" class.\n",
    "- $n_{\\text{tigers}} = 100$ samples in the \"tigers\" class.\n",
    "\n",
    "Here's how we calculate $S_b$ for our example:\n",
    "\n",
    "$ \\LARGE\n",
    "S_b = \\underbrace{100}_{n_{\\text{pandas}}}(\\mathbf{m}_{\\text{pandas}} - \\mathbf{m})(\\mathbf{m}_{\\text{pandas}} - \\mathbf{m})^T + \\underbrace{100}_{n_{\\text{tigers}}}(\\mathbf{m}_{\\text{tigers}} - \\mathbf{m})(\\mathbf{m}_{\\text{tigers}} - \\mathbf{m})^T$\n",
    "\n",
    "where, \n",
    "- $S_b$ represents the between-class scatter matrix.\n",
    "- $\\mathbf{m}_{\\text{pandas}}$ is the mean vector for the \"pandas\" class.\n",
    "- $\\mathbf{m}_{\\text{tigers}}$ is the mean vector for the \"tigers\" class.\n",
    "- $\\mathbf{m}$ is the overall mean vector of the entire dataset.\n",
    "\n",
    "This formula calculates how the means of the \"pandas\" and \"tigers\" classes differ from the overall mean $\\mathbf{m}$ and then quantifies this difference as a matrix. The matrix $S_b$ tells us how well-separated these classes are in the feature space based on their means, which include weight and size.\n",
    "\n",
    "In summary, $S_b$ helps LDA find the directions (eigenvectors) in which different classes (pandas and tigers) are well-separated based on their weight and size features, which is essential for dimensionality reduction and classification."
   ]
  },
  {
   "cell_type": "code",
   "execution_count": 44,
   "metadata": {},
   "outputs": [
    {
     "name": "stdout",
     "output_type": "stream",
     "text": [
      "SCATTER BETWEEN MATRIX\n"
     ]
    },
    {
     "data": {
      "text/plain": [
       "array([[5325.12   , 2845.74   ],\n",
       "       [2845.74   , 1520.76125]])"
      ]
     },
     "execution_count": 44,
     "metadata": {},
     "output_type": "execute_result"
    }
   ],
   "source": [
    "# Calculate overall mean (m)\n",
    "overall_mean = (mean_panda + mean_tiger) / 2\n",
    "\n",
    "# Calculate between-class scatter matrix (S_B)\n",
    "S_B = np.outer(mean_panda - overall_mean, mean_panda - overall_mean)\n",
    "S_B += np.outer(mean_tiger - overall_mean, mean_tiger - overall_mean)\n",
    "\n",
    "print(f\"SCATTER BETWEEN MATRIX\")\n",
    "pd.DataFrame({'Animal': ['Panda', 'Tiger'],\n",
    "        'Weight': [S_B[0, 0], S_B[1, 0]],\n",
    "        'Class': [S_B[0, 1], S_B[1, 1]]})\n",
    "\n",
    "S_B"
   ]
  },
  {
   "cell_type": "markdown",
   "metadata": {},
   "source": [
    "## Step 3 Calculate Eigenvectors and Eigenvalues for $S_W^{-1}S_B$\n",
    "\n",
    "\n",
    "## STEP 3.1 Solving for $S_W^{-1}$\n",
    "\n",
    "#### Calculating the Inverse of a Matrix (2x2 case):\n",
    "\n",
    "For a 2x2 matrix like $S_W$:\n",
    "\n",
    "$$\\LARGE\n",
    "S_W = \\begin{bmatrix}\n",
    "a & b \\\\\n",
    "c & d\n",
    "\\end{bmatrix}\n",
    "$$\n",
    "\n",
    "The formula for the inverse is:\n",
    "\n",
    "$$\\LARGE\n",
    "S_W^{-1} = \\frac{1}{ad - bc} \\begin{bmatrix}\n",
    "d & -b \\\\\n",
    "-c & a\n",
    "\\end{bmatrix}\n",
    "$$\n",
    "\n",
    "Where:\n",
    "- $a$, $b$, $c$, and $d$ are the elements of the original matrix $S_W$.\n",
    "- $S_W^{-1}$ is the inverse matrix.\n",
    "\n",
    "## Example \n",
    "\n",
    "Calculation for $S_W$:\n",
    "\n",
    "Given your example value for $S_W$:\n",
    "\n",
    "$\n",
    "S_W = \\begin{bmatrix}\n",
    "46579.42 & 2824.53 \\\\\n",
    "2824.53 & 11443.27\n",
    "\\end{bmatrix}\n",
    "$\n",
    "\n",
    "Let's calculate $S_W^{-1}$ using the formula:\n",
    "\n",
    "1. Calculate the determinant ($ad - bc$):\n",
    "\n",
    "$\n",
    "\\text{Determinant} = (46579.42 \\cdot 11443.27) - (2824.53 \\cdot 2824.53) = 534231888.9041 - 7974851.4909 = 526257037.4132\n",
    "$\n",
    "\n",
    "2. Calculate the inverse matrix:\n",
    "\n",
    "$\n",
    "S_W^{-1} = \\frac{1}{526257037.4132} \\begin{bmatrix}\n",
    "11443.27 & -2824.53 \\\\\n",
    "-2824.53 & 46579.42\n",
    "\\end{bmatrix}\n",
    "$\n",
    "\n",
    "Now you have the inverse matrix $S_W^{-1}$.\n",
    "\n",
    "Please note that the calculation for a 2x2 matrix is relatively straightforward. For larger matrices, you would typically use software libraries like NumPy's `np.linalg.inv` to compute the inverse, as it can handle more complex cases efficiently.\n",
    "\n",
    "\n",
    "Given the value of \\$S_B\\$:\n",
    "\n",
    "$\n",
    "S_B = \\begin{bmatrix}\n",
    "5325.12 & 2845.74 \\\\\n",
    "2845.74 & 1520.76125\n",
    "\\end{bmatrix}\n",
    "$\n",
    "\n",
    "And the previously calculated $S_W^{-1}$:\n",
    "\n",
    "$\n",
    "S_W^{-1} = \\frac{1}{526257037.4132} \\begin{bmatrix}\n",
    "11443.27 & -2824.53 \\\\\n",
    "-2824.53 & 46579.42\n",
    "\\end{bmatrix}\n",
    "$\n",
    "\n",
    "Let's perform the matrix multiplication $S_W^{-1} \\cdot S_B$:\n",
    "\n",
    "$\n",
    "S_W^{-1} \\cdot S_B = \\frac{1}{526257037.4132} \\begin{bmatrix}\n",
    "11443.27 & -2824.53 \\\\\n",
    "-2824.53 & 46579.42\n",
    "\\end{bmatrix} \\cdot \\begin{bmatrix}\n",
    "5325.12 & 2845.74 \\\\\n",
    "2845.74 & 1520.76125\n",
    "\\end{bmatrix}\n",
    "$\n",
    "\n",
    "\n",
    "\n",
    "After performing the calculations, you will obtain the resulting matrix $S_W^{-1} \\cdot S_B$. \n",
    "\n",
    "$ \\large S_W^{-1} \\cdot S_B = \\\\ \n",
    "[[0.10075159, 0.05384157], \\\\\n",
    "[0.22381401, 0.11960603]]$\n",
    "\n",
    "\n",
    " Now at last eigenvalues and eigenvectors are calculated using formula\n",
    "\n",
    "$ \\LARGE\n",
    "S_W^{-1} \\cdot S_B \\cdot \\mathbf{v} = \\lambda \\cdot \\mathbf{v}\n",
    "$\n",
    "\n",
    "Where:\n",
    "- $\\large \\lambda $ is an eigenvalue.\n",
    "- $\\mathbf{v}$ is the corresponding eigenvector.\n"
   ]
  },
  {
   "cell_type": "code",
   "execution_count": 45,
   "metadata": {},
   "outputs": [],
   "source": [
    "# Step 3: Calculate eigenvalues and eigenvectors for S_W^-1 * S_B\n",
    "eigenvalues, eigenvectors = np.linalg.eig(np.linalg.inv(S_W).dot(S_B))\n",
    "\n",
    "# Step 4: Keep the top k eigenvectors by ordering them by descending eigenvalues\n",
    "k = 1 # Number of top eigenvectors to keep\n",
    "top_eigenvectors = eigenvectors[:, np.argsort(eigenvalues)[::-1][:k]]"
   ]
  },
  {
   "cell_type": "markdown",
   "metadata": {},
   "source": [
    "## Project Data onto new space"
   ]
  },
  {
   "cell_type": "code",
   "execution_count": 46,
   "metadata": {},
   "outputs": [],
   "source": [
    "# Step 5: Use the top eigenvectors to project onto the new space\n",
    "projected_panda = panda_data.dot(top_eigenvectors)\n",
    "projected_tiger = tiger_data.dot(top_eigenvectors)"
   ]
  },
  {
   "cell_type": "markdown",
   "metadata": {},
   "source": [
    "# Plot result"
   ]
  },
  {
   "cell_type": "code",
   "execution_count": 27,
   "metadata": {},
   "outputs": [
    {
     "data": {
      "image/png": "[encoded data removed]",
      "text/plain": [
       "<Figure size 800x600 with 1 Axes>"
      ]
     },
     "metadata": {},
     "output_type": "display_data"
    }
   ],
   "source": [
    "# Plot the results in 1D\n",
    "plt.figure(figsize=(8, 6))\n",
    "plt.scatter(projected_panda[:, 0], np.zeros_like(projected_panda[:, 0]), label='Pandas', color='Black')\n",
    "plt.scatter(projected_tiger[:, 0], np.zeros_like(projected_tiger[:, 0]), label='Tigers', color='darkorange')\n",
    "plt.xlabel('LD1')\n",
    "plt.title('LDA Projection in 1D')\n",
    "plt.legend()\n",
    "plt.grid(True)\n",
    "plt.show()\n",
    "\n"
   ]
  },
  {
   "cell_type": "markdown",
   "metadata": {},
   "source": [
    "# 🔍Load Synthetic Data"
   ]
  },
  {
   "cell_type": "code",
   "execution_count": 3,
   "metadata": {},
   "outputs": [],
   "source": [
    "df = pd.read_csv(\"./animals_2.csv\")\n",
    "panda_data = df[df[\"Class\"] == \"panda\"][[\"Weight\", \"Size\",\"Speed\"]].to_numpy()\n",
    "tiger_data = df[df[\"Class\"] == \"tiger\"][[\"Weight\", \"Size\",\"Speed\"]].to_numpy()\n",
    "cat_data = df[df[\"Class\"] == \"tiger\"][[\"Weight\", \"Size\",\"Speed\"]].to_numpy()"
   ]
  },
  {
   "cell_type": "markdown",
   "metadata": {},
   "source": [
    "# Performing LDA where P > 2"
   ]
  },
  {
   "cell_type": "code",
   "execution_count": 18,
   "metadata": {},
   "outputs": [
    {
     "data": {
      "image/png": "[encoded data removed]",
      "text/plain": [
       "<Figure size 800x600 with 1 Axes>"
      ]
     },
     "metadata": {},
     "output_type": "display_data"
    }
   ],
   "source": [
    "import numpy as np\n",
    "import pandas as pd\n",
    "import matplotlib.pyplot as plt\n",
    "\n",
    "df = pd.read_csv(\"./animals_2.csv\")\n",
    "panda_data = df[df[\"Class\"] == \"panda\"][[\"Weight\", \"Size\"]].to_numpy()\n",
    "tiger_data = df[df[\"Class\"] == \"tiger\"][[\"Weight\", \"Size\"]].to_numpy()\n",
    "cat_data = df[df[\"Class\"] == \"cat\"][[\"Weight\", \"Size\"]].to_numpy()\n",
    "\n",
    "# Calculate mean vectors for each class\n",
    "mean_panda = np.mean(panda_data, axis=0)\n",
    "mean_tiger = np.mean(tiger_data, axis=0)\n",
    "mean_cat = np.mean(cat_data, axis=0)\n",
    "\n",
    "# Initialize S_W as a 2x2 matrix since you have 2 features\n",
    "S_W = np.zeros((2, 2))\n",
    "\n",
    "# Calculate scatter within matrix for each class\n",
    "for x in panda_data:\n",
    "    x_minus_mean = x - mean_panda\n",
    "    S_W += np.outer(x_minus_mean, x_minus_mean)\n",
    "\n",
    "for x in tiger_data:\n",
    "    x_minus_mean = x - mean_tiger\n",
    "    S_W += np.outer(x_minus_mean, x_minus_mean)\n",
    "\n",
    "for x in cat_data:\n",
    "    x_minus_mean = x - mean_cat\n",
    "    S_W += np.outer(x_minus_mean, x_minus_mean)\n",
    "\n",
    "# Calculate overall mean (m)\n",
    "overall_mean = (mean_panda + mean_tiger + mean_cat) / 3\n",
    "\n",
    "# Calculate between-class scatter matrix (S_B)\n",
    "S_B = np.outer(mean_panda - overall_mean, mean_panda - overall_mean)\n",
    "S_B += np.outer(mean_tiger - overall_mean, mean_tiger - overall_mean)\n",
    "S_B += np.outer(mean_cat - overall_mean, mean_cat - overall_mean)\n",
    "\n",
    "# Step 3: Calculate eigenvalues and eigenvectors for S_W^-1 * S_B\n",
    "eigenvalues, eigenvectors = np.linalg.eig(np.linalg.inv(S_W).dot(S_B))\n",
    "\n",
    "# Step 4: Keep the top k eigenvectors by ordering them by descending eigenvalues\n",
    "k = 2  # Number of top eigenvectors to keep\n",
    "top_eigenvectors = eigenvectors[:, np.argsort(eigenvalues)[::-1][:k]]\n",
    "\n",
    "# Step 5: Use the top eigenvectors to project onto the new space\n",
    "projected_panda = panda_data.dot(top_eigenvectors)\n",
    "projected_tiger = tiger_data.dot(top_eigenvectors)\n",
    "projected_cat = cat_data.dot(top_eigenvectors)\n",
    "\n",
    "plt.figure(figsize=(8, 6))\n",
    "\n",
    "# Scatterplot in 2D with flipped y-axis\n",
    "plt.scatter(projected_panda[:, 0], -projected_panda[:, 1], label='Pandas', color='black')\n",
    "plt.scatter(projected_tiger[:, 0], -projected_tiger[:, 1], label='Tigers', color='darkorange')\n",
    "plt.scatter(projected_cat[:, 0], -projected_cat[:, 1], label='Cats', color='green')\n",
    "\n",
    "plt.xlabel('LD1')\n",
    "plt.ylabel('LD2') \n",
    "plt.title('LDA Projection in 2D')\n",
    "plt.legend()\n",
    "plt.grid(True)\n",
    "plt.show()\n"
   ]
  }
 ],
 "metadata": {
  "kernelspec": {
   "display_name": "ISLPvenv",
   "language": "python",
   "name": "python3"
  },
  "language_info": {
   "codemirror_mode": {
    "name": "ipython",
    "version": 3
   },
   "file_extension": ".py",
   "mimetype": "text/x-python",
   "name": "python",
   "nbconvert_exporter": "python",
   "pygments_lexer": "ipython3",
   "version": "3.8.2"
  },
  "orig_nbformat": 4
 },
 "nbformat": 4,
 "nbformat_minor": 2
}
